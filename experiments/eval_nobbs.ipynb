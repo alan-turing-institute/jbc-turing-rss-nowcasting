{
 "cells": [
  {
   "cell_type": "markdown",
   "id": "a81aacda-6a13-44c8-ba56-d981566f0191",
   "metadata": {},
   "source": [
    "# Compare now-cast performance between our model and NobBS"
   ]
  },
  {
   "cell_type": "code",
   "execution_count": 1,
   "id": "a0776d32-7537-4542-811e-35ef8d5f9356",
   "metadata": {},
   "outputs": [],
   "source": [
    "import pickle\n",
    "import numpy as np\n",
    "import pandas as pd\n",
    "import matplotlib.pyplot as plt\n",
    "import properscoring as ps\n",
    "import seaborn as sns\n",
    "\n",
    "sns.set_style(\"whitegrid\")"
   ]
  },
  {
   "cell_type": "code",
   "execution_count": 2,
   "id": "aeb4d6e4-1fce-4bf6-8eef-a905153ab785",
   "metadata": {},
   "outputs": [],
   "source": [
    "import matplotlib\n",
    "plt.rc(\"text\", usetex=False)\n",
    "plt.rc(\"font\", family=\"serif\")"
   ]
  },
  {
   "cell_type": "code",
   "execution_count": 3,
   "id": "006ae9e3-3cde-40a5-9cd6-7a9aa886e4d6",
   "metadata": {},
   "outputs": [],
   "source": [
    "def get_truth(ltla, report_date=\"2020-12-14\", n=14):\n",
    "    \"\"\"\n",
    "    Get the true count to compare the now-casts against.\n",
    "    \"\"\"\n",
    "    df = pd.read_csv(f\"../data/cases-{report_date}.csv\"\n",
    "                ).query(f\"`Area name` == '{ltla}' & `Area type` == 'ltla'\")\n",
    "    df = df.sort_values('Specimen date')\n",
    "    ys_sequence = df['Daily lab-confirmed cases'].values[-14:]\n",
    "\n",
    "    df = pd.read_csv(f'../data/cases-2020-12-21.csv')\n",
    "    df = df[(df['Area type']=='ltla')&(df['Specimen date']>='2020-10-09')&(df['Specimen date']<report_date)]\n",
    "    df['Specimen date'] = pd.to_datetime(df['Specimen date'])\n",
    "    df = df.sort_values(\"Specimen date\")\n",
    "    ltla_df = df[(df['Area name']==ltla)&(df['Specimen date']<report_date)]\n",
    "    truth = ltla_df[-n:]['Daily lab-confirmed cases'].values\n",
    "    return truth"
   ]
  },
  {
   "cell_type": "code",
   "execution_count": 4,
   "id": "90c78145-d81b-4d6a-b48a-d1d33d86f357",
   "metadata": {},
   "outputs": [
    {
     "name": "stdout",
     "output_type": "stream",
     "text": [
      "/Users/rjersakova/Documents/turing-rss/jbc-turing-rss-nowcasting\n"
     ]
    }
   ],
   "source": [
    "%cd .."
   ]
  },
  {
   "cell_type": "code",
   "execution_count": 5,
   "id": "cacc0fd4-d3b8-4409-bb48-db7246f01919",
   "metadata": {},
   "outputs": [],
   "source": [
    "from models.utils import empirical_credint\n",
    "from models.inference import Nowcaster"
   ]
  },
  {
   "cell_type": "code",
   "execution_count": 6,
   "id": "914f332b-1053-4d93-ac10-aa1869b12eca",
   "metadata": {},
   "outputs": [
    {
     "name": "stdout",
     "output_type": "stream",
     "text": [
      "/Users/rjersakova/Documents/turing-rss/jbc-turing-rss-nowcasting/experiments\n"
     ]
    }
   ],
   "source": [
    "%cd experiments"
   ]
  },
  {
   "cell_type": "code",
   "execution_count": 7,
   "id": "ad2a934d-b12e-4a80-92f5-1a9d1f9b3a33",
   "metadata": {},
   "outputs": [],
   "source": [
    "df = pd.read_csv(f\"../data/cases-2020-12-14.csv\")\n",
    "all_ltlas = list(df.query(\"`Area type` == 'ltla'\")['Area name'].unique())\n",
    "all_ltlas.remove(\"King's Lynn and West Norfolk\")\n",
    "all_ltlas.remove(\"Kingston upon Hull, City of\")\n",
    "all_ltlas.remove(\"Eden\")"
   ]
  },
  {
   "cell_type": "markdown",
   "id": "2a3f493b-21a7-4720-863b-9d7e93090a68",
   "metadata": {},
   "source": [
    "Compute absolute errors and CRPS for both models."
   ]
  },
  {
   "cell_type": "code",
   "execution_count": 9,
   "id": "5c8cca7c-c922-4d47-8709-f6c6c658d8cc",
   "metadata": {},
   "outputs": [],
   "source": [
    "our_errors_all = []\n",
    "nobbs_errors_all = []\n",
    "\n",
    "our_crps_all = []\n",
    "nobbs_crps_all = []\n",
    "\n",
    "for ltla in all_ltlas:\n",
    "\n",
    "    truth = get_truth(ltla, n=18)\n",
    "\n",
    "    # original model\n",
    "    path = f\"../experiments/results/2020-12-14/{ltla.replace(' ', '_')}.pickle\"\n",
    "    model = pickle.load(open(path, 'rb'))\n",
    "    our_samples = np.array(model.x_smoothing_samples[-18:])\n",
    "    our_nowcast = our_samples.mean(axis=1)\n",
    "\n",
    "    # nobbs_nowcast\n",
    "    nobbs_df = pd.read_csv(f\"nobbs_results/{ltla}_2020-12-14_stan.csv\")\n",
    "    nobbs_samples = nobbs_df[[f\"sum_n_predict.{i}\" for i in range(1,19)]].T.to_numpy()\n",
    "    nobbs_nowcast = nobbs_samples.mean(axis=1)\n",
    "\n",
    "    # ABSOLUTE ERRORS\n",
    "    our_errors = np.abs(truth - our_nowcast)[-4:]\n",
    "    nobbs_errors = np.abs(truth - nobbs_nowcast)[-4:]\n",
    "    \n",
    "    our_errors_all.append(our_errors)\n",
    "    nobbs_errors_all.append(nobbs_errors)\n",
    "    \n",
    "    # CRPS\n",
    "    our_crps = [ps.crps_ensemble(truth[idx], x) for idx,x in enumerate(our_samples)][-4:]\n",
    "    nobbs_crps = [ps.crps_ensemble(truth[idx], x) for idx,x in enumerate(nobbs_samples)][-4:]\n",
    "    \n",
    "    our_crps_all.append(our_crps)\n",
    "    nobbs_crps_all.append(nobbs_crps)"
   ]
  },
  {
   "cell_type": "code",
   "execution_count": 14,
   "id": "599d4359-19ff-448b-adaa-97fd83fed1ec",
   "metadata": {},
   "outputs": [],
   "source": [
    "plt.rc(\"text\", usetex=False)\n",
    "plt.rc(\"font\", family=\"serif\")"
   ]
  },
  {
   "cell_type": "code",
   "execution_count": 17,
   "id": "240243a9-5373-46e6-8ad0-0320092fe509",
   "metadata": {},
   "outputs": [
    {
     "data": {
      "image/png": "[encoded data removed]",
      "text/plain": [
       "<Figure size 864x288 with 2 Axes>"
      ]
     },
     "metadata": {},
     "output_type": "display_data"
    }
   ],
   "source": [
    "fig, ax = plt.subplots(1, 2, figsize=(12, 4), sharey=True)\n",
    "\n",
    "pd.DataFrame(np.flip(np.array(our_errors_all))).boxplot(showfliers=False, whis=(5,95), ax=ax[1])\n",
    "pd.DataFrame(np.flip(np.array(nobbs_errors_all))).boxplot(showfliers=False, whis=(5,95), ax=ax[0])\n",
    "\n",
    "for i in range(2):\n",
    "\n",
    "    ax[i].set_xticklabels([1,2,3, 4])\n",
    "    ax[i].set_xlabel(\"Lag\", fontsize=16)\n",
    "    plt.setp(ax[i].get_xticklabels(), fontsize=16)\n",
    "    plt.setp(ax[i].get_yticklabels(), fontsize=16)\n",
    "\n",
    "ax[1].set_title(\"Our model\", fontsize=16)\n",
    "# ax[1].set_title(\"Sigma with prior\", fontsize=16)\n",
    "ax[0].set_title(\"NobBS\", fontsize=16)\n",
    "\n",
    "ax[0].set_ylabel(\"Absolute error\", fontsize=16)\n",
    "\n",
    "plt.suptitle(\"\")\n",
    "plt.tight_layout()\n",
    "plt.savefig(f\"comparison_results.pdf\", dpi=600)"
   ]
  },
  {
   "cell_type": "code",
   "execution_count": 18,
   "id": "739aa322-6cf3-4fa5-813d-9c61fb6947ac",
   "metadata": {},
   "outputs": [
    {
     "data": {
      "image/png": "[encoded data removed]",
      "text/plain": [
       "<Figure size 864x288 with 2 Axes>"
      ]
     },
     "metadata": {},
     "output_type": "display_data"
    }
   ],
   "source": [
    "fig, ax = plt.subplots(1, 2, figsize=(12, 4), sharey=True)\n",
    "\n",
    "pd.DataFrame(np.flip(np.array(our_crps_all))).boxplot(showfliers=False, whis=(5,95), ax=ax[1])\n",
    "pd.DataFrame(np.flip(np.array(nobbs_crps_all))).boxplot(showfliers=False, whis=(5,95), ax=ax[0])\n",
    "\n",
    "for i in range(2):\n",
    "\n",
    "    ax[i].set_xticklabels([1,2,3,4])\n",
    "    ax[i].set_xlabel(\"Lag\", fontsize=16)\n",
    "    plt.setp(ax[i].get_xticklabels(), fontsize=16)\n",
    "    plt.setp(ax[i].get_yticklabels(), fontsize=16)\n",
    "\n",
    "ax[1].set_title(\"Our model\", fontsize=16)\n",
    "# ax[1].set_title(\"Sigma with prior\", fontsize=16)\n",
    "ax[0].set_title(\"NobBS\", fontsize=16)\n",
    "\n",
    "ax[0].set_ylabel(\"CRPS\", fontsize=16)\n",
    "\n",
    "plt.suptitle(\"\")\n",
    "plt.tight_layout()\n",
    "plt.savefig(f\"comparison_results_crps.pdf\", dpi=600)"
   ]
  },
  {
   "cell_type": "code",
   "execution_count": null,
   "id": "bbf040ef-d51b-4b9c-a841-6b36c66f6f24",
   "metadata": {},
   "outputs": [],
   "source": []
  }
 ],
 "metadata": {
  "kernelspec": {
   "display_name": "Python 3",
   "language": "python",
   "name": "python3"
  },
  "language_info": {
   "codemirror_mode": {
    "name": "ipython",
    "version": 3
   },
   "file_extension": ".py",
   "mimetype": "text/x-python",
   "name": "python",
   "nbconvert_exporter": "python",
   "pygments_lexer": "ipython3",
   "version": "3.8.8"
  }
 },
 "nbformat": 4,
 "nbformat_minor": 5
}
